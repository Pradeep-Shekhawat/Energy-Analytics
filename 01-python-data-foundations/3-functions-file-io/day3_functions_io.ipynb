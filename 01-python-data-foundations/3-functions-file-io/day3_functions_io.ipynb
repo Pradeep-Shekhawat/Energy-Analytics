{
 "cells": [
  {
   "cell_type": "markdown",
   "id": "c75152dd",
   "metadata": {},
   "source": [
    "# Day 3: Functions & File I/O\n",
    "\n",
    "1. Overview  \n",
    "2. Defining & Calling Functions  \n",
    "3. Variable Scope & Return Values  \n",
    "4. File Input/Output (CSV & Text)  \n",
    "5. Exercise 1: Solar CSV Parser Function  \n",
    "6. Exercise 2: Demand Stats Function  \n",
    "7. Exercise 3: Generate & Write Reports  \n",
    "\n",
    "---"
   ]
  },
  {
   "cell_type": "markdown",
   "id": "4ff4ef4c",
   "metadata": {},
   "source": [
    "## 1. Overview\n",
    "\n",
    "Welcome to Day 3 of my Energy Analytics journey! Today’s goals are to:\n",
    "\n",
    "- Define and use Python functions to encapsulate reusable logic  \n",
    "- Understand variable scope and return values  \n",
    "- Read from and write to CSV and text files  \n",
    "- Complete three field‑related coding exercises in Jupyter notebook  \n",
    "\n",
    "---"
   ]
  },
  {
   "cell_type": "markdown",
   "id": "22b64de3",
   "metadata": {},
   "source": [
    "## 2. Defining & Calling Functions\n",
    "\n",
    "In this section, I will:\n",
    "\n",
    "- Use the `def` keyword to define a function  \n",
    "- Pass positional and keyword arguments, including default values  \n",
    "- Return values vs. printing inside the function  \n",
    "- Write docstrings for clarity  "
   ]
  },
  {
   "cell_type": "code",
   "execution_count": 1,
   "id": "f9a7973d",
   "metadata": {},
   "outputs": [
    {
     "name": "stdout",
     "output_type": "stream",
     "text": [
      "5.2\n"
     ]
    }
   ],
   "source": [
    "def convert_wh_to_kwh(wh):\n",
    "    \"\"\"Convert a Wh value to kWh.\"\"\"\n",
    "    return wh / 1000\n",
    "\n",
    "print(convert_wh_to_kwh(5200))"
   ]
  },
  {
   "cell_type": "markdown",
   "id": "cd74893f",
   "metadata": {},
   "source": [
    "---\n",
    "\n",
    "## 3. Variable Scope & Return Values\n",
    "\n",
    "I will note:\n",
    "\n",
    "- **Local scope**: variables defined inside a function  \n",
    "- **Global scope**: variables defined outside a function  \n",
    "- How `return` ends my function execution and hands back a value  \n",
    "- Best practices: avoid modifying globals inside functions  \n",
    "\n",
    "---"
   ]
  },
  {
   "cell_type": "markdown",
   "id": "11e8523a",
   "metadata": {},
   "source": [
    "## 4. File Input/Output (CSV & Text)\n",
    "\n",
    "In this section, I will:\n",
    "\n",
    "- Open files using `open(path, mode)` with modes `r`, `w`, `a`  \n",
    "- Use `with` statements for safe file handling  \n",
    "- Read and write plain text (`.read()`, `.write()`)  \n",
    "- Use the `csv` module or `pandas` for CSV I/O  "
   ]
  },
  {
   "cell_type": "code",
   "execution_count": 2,
   "id": "35064edb",
   "metadata": {},
   "outputs": [
    {
     "name": "stdout",
     "output_type": "stream",
     "text": [
      "Energy Analytics Day 3\n",
      "\n"
     ]
    }
   ],
   "source": [
    "# Text I/O\n",
    "with open(\"sample.txt\", \"w\") as f:\n",
    "    f.write(\"Energy Analytics Day 3\\n\")\n",
    "with open(\"sample.txt\", \"r\") as f:\n",
    "    print(f.read())"
   ]
  },
  {
   "cell_type": "code",
   "execution_count": 3,
   "id": "8a8b7f05",
   "metadata": {},
   "outputs": [
    {
     "name": "stdout",
     "output_type": "stream",
     "text": [
      "['day', 'irradiance_wh']\n",
      "['1', '5200']\n",
      "['2', '4800']\n"
     ]
    }
   ],
   "source": [
    "# CSV I/O via csv module\n",
    "import csv\n",
    "rows = [[\"day\",\"irradiance_wh\"], [1,5200], [2,4800]]\n",
    "with open(\"irr.csv\", \"w\", newline=\"\") as f:\n",
    "    writer = csv.writer(f)\n",
    "    writer.writerows(rows)\n",
    "with open(\"irr.csv\", \"r\") as f:\n",
    "    for row in csv.reader(f):\n",
    "        print(row)"
   ]
  },
  {
   "cell_type": "markdown",
   "id": "f09ac61d",
   "metadata": {},
   "source": [
    "---\n",
    "\n",
    "### Exercise 1: Solar CSV Parser Function\n",
    "\n",
    "In this cell, I create `parse_solar_csv(path)` that:\n",
    "\n",
    "- Opens `irr.csv` (with columns `day` and `irradiance_wh`)  \n",
    "- Converts each Wh/m² value to kWh/m² by dividing by 1,000  \n",
    "- Returns a list of kWh values  \n",
    "\n",
    "- **Why?**  \n",
    "  I need to standardize my raw irradiance data for downstream analysis.  \n",
    "- **How?**  \n",
    "  I use `csv.DictReader` inside a `with open(..., \"r\")` block and append converted values to a list.  "
   ]
  },
  {
   "cell_type": "code",
   "execution_count": 1,
   "id": "b91f77b7",
   "metadata": {},
   "outputs": [
    {
     "name": "stdout",
     "output_type": "stream",
     "text": [
      "[5.2, 4.8, 5.3, 5.1, 4.95]\n"
     ]
    }
   ],
   "source": [
    "import csv\n",
    "\n",
    "def parse_solar_csv(path) :\n",
    "    \"\"\"Read csv and convert Wh to KWh list.\"\"\"\n",
    "    kwh = []\n",
    "    with open(path, \"r\") as f :\n",
    "        reader = csv.DictReader(f)\n",
    "        for row in reader :\n",
    "            kwh.append(float(row[\"irradiance_wh\"]) / 1000)\n",
    "    return kwh\n",
    "\n",
    "print(parse_solar_csv(\"irr.csv\"))"
   ]
  },
  {
   "cell_type": "markdown",
   "id": "959977e0",
   "metadata": {},
   "source": [
    "---\n",
    "\n",
    "### Exercise 2: Demand Stats Function\n",
    "\n",
    "In this cell, I create `demand_stats(demands)` that:\n",
    "\n",
    "- Accepts a list of my daily peak demand values (GW)  \n",
    "- Computes `min`, `max`, and average  \n",
    "- Returns a tuple `(min, max, avg)`  \n",
    "\n",
    "- **Why?**  \n",
    "  Summarizing my demand statistics is essential for understanding grid load variability.  \n",
    "- **How?**  \n",
    "  I use built‑in functions `min()`, `max()`, and `sum()/len()` inside my function and return the results.  "
   ]
  },
  {
   "cell_type": "code",
   "execution_count": 2,
   "id": "242f42e0",
   "metadata": {},
   "outputs": [
    {
     "name": "stdout",
     "output_type": "stream",
     "text": [
      "(35.2, 64.2, 49.675)\n"
     ]
    }
   ],
   "source": [
    "def demand_stats(demants) :\n",
    "    \"\"\"Return (min, max, avg) of demands list.\"\"\"\n",
    "    return (min(demants), max(demants), sum(demants)/len(demants))\n",
    "\n",
    "stats = demand_stats([35.2, 42.8, 56.5, 64.2])\n",
    "print(stats)"
   ]
  },
  {
   "cell_type": "markdown",
   "id": "12182048",
   "metadata": {},
   "source": [
    "---\n",
    "\n",
    "### Exercise 3: Generate & Write Reports\n",
    "\n",
    "In this cell, I:\n",
    "\n",
    "1. Call `parse_solar_csv(\"irr.csv\")` → `solar_kwh` list  \n",
    "2. Call `demand_stats(peak_demands)` on  \n",
    "   `[35.2, 42.8, 61.5, 55.0, 38.9]` → `stats` tuple  \n",
    "3. Open (or create) `report.txt` in write mode and write lines:                                                                                 \n",
    "   Solar kwh days: [5.2, 4.8, 5.3, 5.1, 4.95]                                                                                                 \n",
    "   Demand stats : min=35.2, max=64.2, avg=51.48\n",
    "\n",
    "\n",
    "- **Why?**  \n",
    "Automated reporting ensures my results are easily shared and reproducible.  \n",
    "- **How?**  \n",
    "I use `with open(\"report.txt\", \"w\")` and `f.write()` for each line.  "
   ]
  },
  {
   "cell_type": "code",
   "execution_count": 3,
   "id": "2525ef91",
   "metadata": {},
   "outputs": [],
   "source": [
    "solar_kwh = parse_solar_csv(\"irr.csv\")\n",
    "stats = demand_stats([35.2, 42.8, 56.5, 64.2, 58.7])\n",
    "\n",
    "with open(\"report.txt\", \"w\") as f :\n",
    "    f.write(f\"Solar kwh days: {solar_kwh}\\n\")\n",
    "    f.write(f\"Demand stats : min={stats[0]}, max={stats[1]}, avg={stats[2]:.2f}\\n\")"
   ]
  }
 ],
 "metadata": {
  "kernelspec": {
   "display_name": "Python 3",
   "language": "python",
   "name": "python3"
  },
  "language_info": {
   "codemirror_mode": {
    "name": "ipython",
    "version": 3
   },
   "file_extension": ".py",
   "mimetype": "text/x-python",
   "name": "python",
   "nbconvert_exporter": "python",
   "pygments_lexer": "ipython3",
   "version": "3.13.1"
  }
 },
 "nbformat": 4,
 "nbformat_minor": 5
}
