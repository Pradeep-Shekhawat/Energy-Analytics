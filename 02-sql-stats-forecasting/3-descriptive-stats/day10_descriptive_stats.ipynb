{
 "cells": [
  {
   "cell_type": "markdown",
   "id": "0a49a43a",
   "metadata": {},
   "source": [
    "# Day 10: Descriptive Statistics in Python\n",
    "\n",
    "1. Overview  \n",
    "2. Loading Data (Solar & Generation)  \n",
    "3. Quick Summaries with Pandas  \n",
    "4. Custom Metrics: Variance, Skewness & Kurtosis  \n",
    "5. Visualizing Distributions  \n",
    "6. Exercises\n",
    "\n",
    "---"
   ]
  },
  {
   "cell_type": "markdown",
   "id": "c317397b",
   "metadata": {},
   "source": [
    "## 1. Overview\n",
    "\n",
    "Today’s goals are to:\n",
    "\n",
    "- Compute key summary statistics (mean, median, variance, skewness, kurtosis)  \n",
    "- Visualize distributions of energy data  \n",
    "- Prepare insights for deeper time‑series analysis  \n",
    "\n",
    "---"
   ]
  },
  {
   "cell_type": "markdown",
   "id": "38789de7",
   "metadata": {},
   "source": [
    "## 2. Loading Data\n",
    "\n",
    "In this section, I will:\n",
    "\n",
    "- Import Pandas and SQLite3  \n",
    "- Load `solar_irr.csv` (Day 6) into a DataFrame indexed by date  \n",
    "- Query the `generation` table from `cea_gen.db` (Day 8/9) into a DataFrame"
   ]
  },
  {
   "cell_type": "code",
   "execution_count": 2,
   "id": "0ae0092e",
   "metadata": {},
   "outputs": [
    {
     "data": {
      "text/plain": [
       "(            irradiance_kwh\n",
       " date                      \n",
       " 2025-01-01            1.70\n",
       " 2025-01-02            2.09\n",
       " 2025-01-03            1.31\n",
       " 2025-01-04            2.12\n",
       " 2025-01-05            3.31,\n",
       "    region  year  month  fuel_type  generation\n",
       " 0  region  year  month  fuel_type  generation\n",
       " 1   North  2025      1      Solar      355.77\n",
       " 2   North  2025      1       Wind       110.0\n",
       " 3   North  2025      1      Hydro      210.01\n",
       " 4   North  2025      2      Solar      189.28)"
      ]
     },
     "execution_count": 2,
     "metadata": {},
     "output_type": "execute_result"
    }
   ],
   "source": [
    "import pandas as pd\n",
    "import sqlite3\n",
    "\n",
    "# Load solar data from day 6\n",
    "solar = pd.read_csv(\"../../week1/day6/solar_irr.csv\", parse_dates=[\"date\"]).set_index(\"date\")\n",
    "\n",
    "# Load generation data from SQLite day8\n",
    "conn = sqlite3.connect(\"../day8/cea_gen.db\")\n",
    "gen = pd.read_sql_query(\"SELECT * FROM generation\", conn)\n",
    "conn.close()\n",
    "\n",
    "# Display rows\n",
    "solar.head(), gen.head()"
   ]
  },
  {
   "cell_type": "markdown",
   "id": "54b4f965",
   "metadata": {},
   "source": [
    "---\n",
    "\n",
    "## 3. Quick Summaries with Pandas\n",
    "\n",
    "In this section, I will:\n",
    "\n",
    "- Use `.describe()` to get count, mean, std, min, quartiles, and max  \n",
    "- Group by `fuel_type` to compare generation statistics"
   ]
  },
  {
   "cell_type": "code",
   "execution_count": 3,
   "id": "c3624c8c",
   "metadata": {},
   "outputs": [
    {
     "name": "stdout",
     "output_type": "stream",
     "text": [
      "Solar Irradiance Summary:\n",
      " count    120.000000\n",
      "mean       4.995583\n",
      "std        1.540503\n",
      "min        1.270000\n",
      "25%        4.062500\n",
      "50%        5.180000\n",
      "75%        6.330000\n",
      "max        7.250000\n",
      "Name: irradiance_kwh, dtype: float64\n",
      "Generation by Fuel Type:\n",
      "           count unique         top freq\n",
      "fuel_type                              \n",
      "Hydro       8.0    8.0      210.01  1.0\n",
      "Solar       8.0    8.0      355.77  1.0\n",
      "Wind        8.0    8.0       110.0  1.0\n",
      "fuel_type     1      1  generation    1\n"
     ]
    }
   ],
   "source": [
    "# Solar irradiance stats\n",
    "solar_stats = solar[\"irradiance_kwh\"].describe()\n",
    "print(\"Solar Irradiance Summary:\\n\", solar_stats)\n",
    "\n",
    "# Generation stats by fuel type\n",
    "gen_stats = gen.groupby(\"fuel_type\")[\"generation\"].describe()\n",
    "print(\"Generation by Fuel Type:\\n\", gen_stats)"
   ]
  },
  {
   "cell_type": "markdown",
   "id": "b8bad894",
   "metadata": {},
   "source": [
    "---\n",
    "\n",
    "## 4. Custom Metrics: Variance, Skewness & Kurtosis\n",
    "\n",
    "In this section, I will:\n",
    "\n",
    "- Compute variance with `.var()`  \n",
    "- Calculate skewness and kurtosis  \n",
    "- Interpret what skewness and kurtosis reveal about data shape"
   ]
  },
  {
   "cell_type": "code",
   "execution_count": 5,
   "id": "4c946326",
   "metadata": {},
   "outputs": [
    {
     "name": "stdout",
     "output_type": "stream",
     "text": [
      "Irradiance variance: 2.373\n",
      "Irradiance skewness: -0.594\n",
      "Irradiance kurtosis: -0.460\n"
     ]
    }
   ],
   "source": [
    "# Variance\n",
    "irr_var = solar[\"irradiance_kwh\"].var()\n",
    "\n",
    "# Skewness\n",
    "irr_skew = solar[\"irradiance_kwh\"].skew()\n",
    "\n",
    "# Kurtosis\n",
    "irr_kurt = solar[\"irradiance_kwh\"].kurt()\n",
    "\n",
    "print(f\"Irradiance variance: {irr_var:.3f}\")\n",
    "print(f\"Irradiance skewness: {irr_skew:.3f}\")\n",
    "print(f\"Irradiance kurtosis: {irr_kurt:.3f}\")"
   ]
  },
  {
   "cell_type": "markdown",
   "id": "11734649",
   "metadata": {},
   "source": [
    "---\n",
    "\n",
    "## 5. Visualizing Distributions\n",
    "\n",
    "In this section, I will:\n",
    "\n",
    "- Plot a histogram of daily `irradiance_kwh` values to observe their distribution  \n",
    "- Create a boxplot to highlight spread and outliers"
   ]
  },
  {
   "cell_type": "code",
   "execution_count": 7,
   "id": "bb79436b",
   "metadata": {},
   "outputs": [
    {
     "data": {
      "image/png": "[encoded data removed]",
      "text/plain": [
       "<Figure size 800x400 with 1 Axes>"
      ]
     },
     "metadata": {},
     "output_type": "display_data"
    }
   ],
   "source": [
    "import matplotlib.pyplot as plt\n",
    "\n",
    "plt.figure(figsize=(8,4))\n",
    "plt.hist(solar[\"irradiance_kwh\"], bins=20, density=True)\n",
    "plt.title(\"Distribution of Daily Solar Irradiance\")\n",
    "plt.xlabel(\"Irradiance (kWh/m²)\")\n",
    "plt.ylabel(\"Density\")\n",
    "plt.grid(True)\n",
    "plt.show()"
   ]
  },
  {
   "cell_type": "code",
   "execution_count": 8,
   "id": "0c7e3275",
   "metadata": {},
   "outputs": [
    {
     "data": {
      "image/png": "[encoded data removed]",
      "text/plain": [
       "<Figure size 400x600 with 1 Axes>"
      ]
     },
     "metadata": {},
     "output_type": "display_data"
    }
   ],
   "source": [
    "plt.figure(figsize=(4,6))\n",
    "plt.boxplot(solar[\"irradiance_kwh\"], vert=True)\n",
    "plt.title(\"Boxplot of Daily Solar Irradiance\")\n",
    "plt.ylabel(\"Irradiance (kWh/m²)\")\n",
    "plt.grid(True)\n",
    "plt.show()"
   ]
  },
  {
   "cell_type": "markdown",
   "id": "e4d56ffd",
   "metadata": {},
   "source": [
    "---\n",
    "\n",
    "## 6. Exercises"
   ]
  },
  {
   "cell_type": "markdown",
   "id": "c8b78a49",
   "metadata": {},
   "source": [
    "### Exercise 1: Generation Variability by Fuel\n",
    "\n",
    "In this cell, I compute the variance and skewness of daily generation (in MU) for each fuel type."
   ]
  },
  {
   "cell_type": "code",
   "execution_count": 18,
   "id": "f1ebdb03",
   "metadata": {},
   "outputs": [
    {
     "name": "stdout",
     "output_type": "stream",
     "text": [
      "  fuel_type      variance  skewness\n",
      "0     Hydro   7538.991507 -0.454270\n",
      "1     Solar  18967.525879 -0.412125\n",
      "2      Wind   8738.216684  1.634270\n"
     ]
    }
   ],
   "source": [
    "import pandas as pd\n",
    "\n",
    "# Load sample CEA generation data\n",
    "gen = pd.read_csv(\"../day8/cea_generation.csv\")\n",
    "\n",
    "# Group by fuel_type and compute variance & skewness\n",
    "gen_variability = gen.groupby(\"fuel_type\")[\"generation\"].agg(\n",
    "    variance=lambda x: x.var(),\n",
    "    skewness=lambda x: x.skew()\n",
    ").reset_index()\n",
    "\n",
    "print(gen_variability)"
   ]
  },
  {
   "cell_type": "markdown",
   "id": "b81149fb",
   "metadata": {},
   "source": [
    "### Exercise 2: Monthly Irradiance Comparison\n",
    "\n",
    "In this cell, I group the solar irradiance data by calendar month, compute the mean ± 1 standard deviation, and plot a bar chart with error bars."
   ]
  },
  {
   "cell_type": "code",
   "execution_count": 19,
   "id": "0dd3d1e3",
   "metadata": {},
   "outputs": [
    {
     "data": {
      "image/png": "[encoded data removed]",
      "text/plain": [
       "<Figure size 800x400 with 1 Axes>"
      ]
     },
     "metadata": {},
     "output_type": "display_data"
    }
   ],
   "source": [
    "import matplotlib.pyplot as plt\n",
    "\n",
    "# Load solar irradiance data\n",
    "solar = pd.read_csv(\"../../week1/day6/solar_irr.csv\", parse_dates=[\"date\"]).set_index(\"date\")\n",
    "\n",
    "# Compute per‐month mean & std\n",
    "solar_monthly = solar[\"irradiance_kwh\"].groupby(solar.index.month).agg(\n",
    "    mean_irradiance=lambda x: x.mean(),\n",
    "    std_irradiance=lambda x: x.std()\n",
    ").rename_axis(\"month\").reset_index()\n",
    "\n",
    "# Plot\n",
    "plt.figure(figsize=(8, 4))\n",
    "plt.bar(\n",
    "    solar_monthly[\"month\"],\n",
    "    solar_monthly[\"mean_irradiance\"],\n",
    "    yerr=solar_monthly[\"std_irradiance\"],\n",
    "    capsize=5\n",
    ")\n",
    "plt.title(\"Monthly Mean Solar Irradiance (±1 std)\")\n",
    "plt.xlabel(\"Month\")\n",
    "plt.ylabel(\"Irradiance (kWh/m²)\")\n",
    "plt.grid(True)\n",
    "plt.show()"
   ]
  },
  {
   "cell_type": "markdown",
   "id": "2701458c",
   "metadata": {},
   "source": [
    "### Exercise 3: Outlier Detection via Z‑Scores\n",
    "\n",
    "In this cell, I identify days where the daily irradiance lies more than 2 standard deviations away from the mean, using the z‑score method."
   ]
  },
  {
   "cell_type": "code",
   "execution_count": 21,
   "id": "b632a6b4",
   "metadata": {},
   "outputs": [
    {
     "name": "stdout",
     "output_type": "stream",
     "text": [
      "Mean irradiance: 5.00 kWh/m²\n",
      "Std deviation:   1.54 kWh/m²\n",
      "\n",
      "Outlier days (|z| > 2):\n",
      "        Date  Irradiance_kWh\n",
      "0 2025-01-01            1.70\n",
      "1 2025-01-03            1.31\n",
      "2 2025-01-07            1.39\n",
      "3 2025-01-18            1.83\n",
      "4 2025-02-04            1.75\n",
      "5 2025-02-27            1.27\n"
     ]
    }
   ],
   "source": [
    "# Compute mean and standard deviation\n",
    "mean_irr = solar[\"irradiance_kwh\"].mean()\n",
    "std_irr  = solar[\"irradiance_kwh\"].std()\n",
    "\n",
    "# Identify outliers where |z| > 2\n",
    "outliers_z = solar[\n",
    "    (solar[\"irradiance_kwh\"] < mean_irr - 2 * std_irr) |\n",
    "    (solar[\"irradiance_kwh\"] > mean_irr + 2 * std_irr)\n",
    "]\n",
    "\n",
    "# Reset index and rename columns for readability\n",
    "outliers_z = outliers_z.reset_index().rename(\n",
    "    columns={\"date\": \"Date\", \"irradiance_kwh\": \"Irradiance_kWh\"}\n",
    ")\n",
    "\n",
    "print(f\"Mean irradiance: {mean_irr:.2f} kWh/m²\")\n",
    "print(f\"Std deviation:   {std_irr:.2f} kWh/m²\")\n",
    "print(\"\\nOutlier days (|z| > 2):\")\n",
    "print(outliers_z)"
   ]
  }
 ],
 "metadata": {
  "kernelspec": {
   "display_name": "Python 3",
   "language": "python",
   "name": "python3"
  },
  "language_info": {
   "codemirror_mode": {
    "name": "ipython",
    "version": 3
   },
   "file_extension": ".py",
   "mimetype": "text/x-python",
   "name": "python",
   "nbconvert_exporter": "python",
   "pygments_lexer": "ipython3",
   "version": "3.13.1"
  }
 },
 "nbformat": 4,
 "nbformat_minor": 5
}
