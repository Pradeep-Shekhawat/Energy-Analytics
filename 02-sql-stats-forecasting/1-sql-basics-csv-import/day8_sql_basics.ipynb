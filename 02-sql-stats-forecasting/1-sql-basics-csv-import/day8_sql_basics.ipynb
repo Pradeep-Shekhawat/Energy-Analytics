{
 "cells": [
  {
   "cell_type": "markdown",
   "id": "04c9f1b4",
   "metadata": {},
   "source": [
    "# Day 8: SQL Basics & Setup\n",
    "\n",
    "1. Overview  \n",
    "2. Install & Verify SQLite  \n",
    "3. Create Database & Import CSV  \n",
    "4. Core SELECT & Aggregation Queries`\n",
    "\n",
    "---"
   ]
  },
  {
   "cell_type": "markdown",
   "id": "6897c2eb",
   "metadata": {},
   "source": [
    "## 1. Overview\n",
    "\n",
    "- A step-by-step CLI workflow to install SQLite.\n",
    "- create a database.\n",
    "- import `cea_generation.csv`.\n",
    "- Run foundational queries.\n",
    "\n",
    "---"
   ]
  },
  {
   "cell_type": "markdown",
   "id": "c7585815",
   "metadata": {},
   "source": [
    "## 2. Install & Verify SQLite\n",
    "\n",
    "- Windows: Ensure sqlite3.exe is on my PATH.\n",
    "- Verify with `sqlite3 --version`.\n",
    "\n",
    "---"
   ]
  },
  {
   "cell_type": "markdown",
   "id": "5e3566f1",
   "metadata": {},
   "source": [
    "## 3. Create Database & Import CSV\n",
    "\n",
    "- Launch SQLite pointing at a new DB file:                                                                                                      \n",
    "sqlite3 cea_gen.db\n",
    "\n",
    "- Within the sqlite> prompt:                                                                                                                    \n",
    "-- 1. Define table schema matching the CSV                                                                                                      \n",
    "CREATE TABLE generation (                                                                                                                       \n",
    "  region     TEXT,                                                                                                                              \n",
    "  year       INTEGER,                                                                                                                           \n",
    "  month      INTEGER,                                                                                                                           \n",
    "  fuel_type  TEXT,                                                                                                                              \n",
    "  generation REAL                                                                                                                               \n",
    ");                                                                                                                                              \n",
    "-- 2. Tell SQLite to read CSV                                                                                                                   \n",
    ".mode csv                                                                                                                                       \n",
    ".import cea_generation.csv generation                                                                                                           \n",
    "-- 3. Verify import                                                                                                                             \n",
    "SELECT COUNT(*) AS rows_loaded FROM generation;                                                                                                 \n",
    "PRAGMA table_info(generation);                                                                                                                  \n",
    "SELECT * FROM generation LIMIT 5;\n",
    "\n",
    "---"
   ]
  },
  {
   "cell_type": "markdown",
   "id": "e8239818",
   "metadata": {},
   "source": [
    "## 4. Core SELECT & Aggregation Queries\n",
    "\n",
    "- Preview data\n",
    "SELECT *                                                                                                                                        \n",
    "FROM generation                                                                                                                                 \n",
    "LIMIT 10;                                                                                                                                       \n",
    "\n",
    "- Filter by region & month                                                                                                                      \n",
    "SELECT *                                                                                                                                        \n",
    "FROM generation                                                                                                                                 \n",
    "WHERE region = 'North'                                                                                                                          \n",
    "  AND month = 3;                                                                                                                                \n",
    "\n",
    "- Monthly totals per region                                                                                                                     \n",
    "SELECT region, month, SUM(generation) AS total_mu                                                                                               \n",
    "FROM generation                                                                                                                                 \n",
    "GROUP BY region, month                                                                                                                          \n",
    "ORDER BY region, month;                                                                                                                         \n",
    "\n",
    "- Top fuel type per region                                                                                                                      \n",
    "SELECT region, fuel_type, SUM(generation) AS gen_sum                                                                                            \n",
    "FROM generation                                                                                                                                 \n",
    "GROUP BY region, fuel_type                                                                                                                      \n",
    "ORDER BY region, gen_sum DESC;                                                                                                                  "
   ]
  }
 ],
 "metadata": {
  "kernelspec": {
   "display_name": "Python 3",
   "language": "python",
   "name": "python3"
  },
  "language_info": {
   "codemirror_mode": {
    "name": "ipython",
    "version": 3
   },
   "file_extension": ".py",
   "mimetype": "text/x-python",
   "name": "python",
   "nbconvert_exporter": "python",
   "pygments_lexer": "ipython3",
   "version": "3.13.1"
  }
 },
 "nbformat": 4,
 "nbformat_minor": 5
}
