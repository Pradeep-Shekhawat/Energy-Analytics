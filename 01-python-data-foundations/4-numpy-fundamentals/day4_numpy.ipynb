{
 "cells": [
  {
   "cell_type": "markdown",
   "id": "5428d13b",
   "metadata": {},
   "source": [
    "# Day 4: NumPy Fundamentals\n",
    "\n",
    "1. Overview  \n",
    "2. Setting Up NumPy  \n",
    "3. Vectorized Operations  \n",
    "4. Indexing, Slicing & Masking  \n",
    "5. Exercise 1: Array Creation & Properties  \n",
    "6. Exercise 2: Indexing & Slicing Solar Data  \n",
    "7. Exercise 3: Boolean Masking & Filtering  \n",
    "8. Exercise 4: Array Statistics  \n",
    "\n",
    "---"
   ]
  },
  {
   "cell_type": "markdown",
   "id": "b81f9440",
   "metadata": {},
   "source": [
    "## 1. Overview\n",
    "\n",
    "Welcome to Day 4 of my Energy Analytics journey! Today’s goals are to:\n",
    "\n",
    "- Learn how to create and manipulate NumPy arrays  \n",
    "- Perform vectorized operations for faster data processing  \n",
    "- Explore indexing, slicing, and boolean masking  \n",
    "- Compute basic array statistics (mean, median, std)  \n",
    "- Complete four energy-related exercises in my Jupyter notebook  \n",
    "\n",
    "---"
   ]
  },
  {
   "cell_type": "markdown",
   "id": "2f6c0d2c",
   "metadata": {},
   "source": [
    "## 2. Setting Up NumPy\n",
    "\n",
    "In this section, I will:\n",
    "\n",
    "- Import NumPy with the standard alias  \n",
    "  ```python\n",
    "  import numpy as np\n",
    "\n",
    "- Create arrays from Python list\n",
    "- Use `np.array()`, `np.zeros()`, and `np.ones()`\n",
    "- Check arrays properties: `.shape`, `.dtype`, `.ndim`"
   ]
  },
  {
   "cell_type": "code",
   "execution_count": 10,
   "id": "90e1d0b9",
   "metadata": {},
   "outputs": [
    {
     "name": "stdout",
     "output_type": "stream",
     "text": [
      "(3,) int64 1\n"
     ]
    }
   ],
   "source": [
    "import numpy as np\n",
    "arr = np.array([1, 2, 3])\n",
    "print(arr.shape, arr.dtype, arr.ndim)"
   ]
  },
  {
   "cell_type": "markdown",
   "id": "2a4b9166",
   "metadata": {},
   "source": [
    "---\n",
    "\n",
    "## 3. Vectorized Operations\n",
    "\n",
    "I will learn to:\n",
    "\n",
    "- Add, subtract, multiply, divide arrays elementwise  \n",
    "- Use scalar broadcasting  \n",
    "- Compare arrays to produce boolean masks  "
   ]
  },
  {
   "cell_type": "code",
   "execution_count": 11,
   "id": "7cab355f",
   "metadata": {},
   "outputs": [
    {
     "name": "stdout",
     "output_type": "stream",
     "text": [
      "[6.4 7.2 6.6]\n",
      "[10.8 12.4 11.2]\n",
      "[False  True  True]\n"
     ]
    }
   ],
   "source": [
    "a = np.array([5.4, 6.2, 5.6])\n",
    "b = np.array([1.0, 1.0, 1.0])\n",
    "print(a + b)          # add 1 kwh/m² to each\n",
    "print(a * 2)          # double each value\n",
    "print(a > 5.5)        # boolean mask for high irradiance"
   ]
  },
  {
   "cell_type": "markdown",
   "id": "47978b62",
   "metadata": {},
   "source": [
    "---\n",
    "\n",
    "## 4. Indexing, Slicing & Masking\n",
    "\n",
    "I will practice:\n",
    "\n",
    "- Accessing single elements (`arr[0]`)  \n",
    "- Slicing ranges (`arr[1:4]`)  \n",
    "- Multi-dimensional indexing  \n",
    "- Boolean masking to filter values  "
   ]
  },
  {
   "cell_type": "code",
   "execution_count": 12,
   "id": "d9002bcb",
   "metadata": {},
   "outputs": [
    {
     "name": "stdout",
     "output_type": "stream",
     "text": [
      "[2 3 4 5 6]\n",
      "[0 2 4 6 8]\n"
     ]
    }
   ],
   "source": [
    "data = np.arange(10)     # [0,1,.....,9]\n",
    "print(data[2:7])         # slice\n",
    "mask = data % 2 == 0\n",
    "print(data[mask])        # even numbers"
   ]
  },
  {
   "cell_type": "markdown",
   "id": "fee4d363",
   "metadata": {},
   "source": [
    "---\n",
    "\n",
    "### Exercise 1: Array Creation & Properties\n",
    "\n",
    "In this cell, I:\n",
    "\n",
    "1. Create a NumPy array `irr_wh = [5200, 4800, 5300, 5100, 4950]`  \n",
    "2. Convert to kWh with a vectorized operation → `irr_kwh`  \n",
    "3. Print `irr_kwh`, its shape, dtype, and ndim  \n",
    "\n",
    "- **Why?**  \n",
    "  Vectorized ops are much faster than Python loops for large datasets.  \n",
    "- **How?**  \n",
    "  I use `np.array()` and simple arithmetic on the array.  "
   ]
  },
  {
   "cell_type": "code",
   "execution_count": null,
   "id": "b48d68fb",
   "metadata": {},
   "outputs": [
    {
     "name": "stdout",
     "output_type": "stream",
     "text": [
      "(5,) float64 1\n"
     ]
    }
   ],
   "source": [
    "import numpy as np\n",
    "\n",
    "irr_wh = np.array([5200, 4800, 5300, 5100, 4950])\n",
    "\n",
    "# convert wh to kwh\n",
    "irr_kwh = irr_wh / 1000\n",
    "\n",
    "print(irr_kwh.shape, irr_kwh.dtype, irr_kwh.ndim)"
   ]
  },
  {
   "cell_type": "markdown",
   "id": "6616d684",
   "metadata": {},
   "source": [
    "---\n",
    "### Exercise 2: Indexing & Slicing Solar Data\n",
    "\n",
    "In this cell, I:\n",
    "\n",
    "1. Given `irr_kwh`, extract days 2–4 (indices 1:4) into `mid_month`  \n",
    "2. Print `mid_month` and its statistics  \n",
    "\n",
    "- **Why?**  \n",
    "  Slicing lets me focus on specific periods (e.g., peak season).  \n",
    "- **How?**  \n",
    "  I use `irr_kwh[1:4]` to get the subarray.  "
   ]
  },
  {
   "cell_type": "code",
   "execution_count": 7,
   "id": "ee5a4b71",
   "metadata": {},
   "outputs": [
    {
     "name": "stdout",
     "output_type": "stream",
     "text": [
      "5.066666666666666\n"
     ]
    }
   ],
   "source": [
    "import numpy as np\n",
    "\n",
    "mid_month = irr_kwh[1:4]\n",
    "print(np.mean(mid_month))"
   ]
  },
  {
   "cell_type": "markdown",
   "id": "f6555e68",
   "metadata": {},
   "source": [
    "---\n",
    "\n",
    "### Exercise 3: Boolean Masking & Filtering\n",
    "\n",
    "In this cell, I:\n",
    "\n",
    "1. Create a boolean mask for irradiance ≥ 5.1 kWh/m²  \n",
    "2. Apply the mask to `irr_kwh` to get `high_irr`  \n",
    "3. Print `high_irr`  \n",
    "\n",
    "- **Why?**  \n",
    "  Masking helps me isolate days with excellent solar potential.  \n",
    "- **How?**  \n",
    "  I use `irr_kwh >= 5.1` and apply it directly to the array.  "
   ]
  },
  {
   "cell_type": "code",
   "execution_count": 8,
   "id": "83da248a",
   "metadata": {},
   "outputs": [
    {
     "name": "stdout",
     "output_type": "stream",
     "text": [
      "[ True False  True  True False]\n"
     ]
    }
   ],
   "source": [
    "high_irr = irr_kwh >= 5.1\n",
    "print(high_irr)"
   ]
  },
  {
   "cell_type": "markdown",
   "id": "dd1361e4",
   "metadata": {},
   "source": [
    "---\n",
    "\n",
    "### Exercise 4: Array Statistics\n",
    "\n",
    "In this cell, I:\n",
    "\n",
    "1. Compute `mean`, `median`, and `standard deviation` of `irr_kwh` using NumPy functions  \n",
    "2. Print the results with descriptive text  \n",
    "\n",
    "- **Why?**  \n",
    "  Summary statistics are essential to understand data distribution.  \n",
    "- **How?**  \n",
    "  I use `np.mean()`, `np.median()`, and `np.std()` on the array.  "
   ]
  },
  {
   "cell_type": "code",
   "execution_count": 9,
   "id": "4b9dfad2",
   "metadata": {},
   "outputs": [
    {
     "name": "stdout",
     "output_type": "stream",
     "text": [
      "5.069999999999999 5.1 0.17776388834631177\n"
     ]
    }
   ],
   "source": [
    "print(np.mean(irr_kwh), np.median(irr_kwh), np.std(irr_kwh))"
   ]
  }
 ],
 "metadata": {
  "kernelspec": {
   "display_name": "Python 3",
   "language": "python",
   "name": "python3"
  },
  "language_info": {
   "codemirror_mode": {
    "name": "ipython",
    "version": 3
   },
   "file_extension": ".py",
   "mimetype": "text/x-python",
   "name": "python",
   "nbconvert_exporter": "python",
   "pygments_lexer": "ipython3",
   "version": "3.13.1"
  }
 },
 "nbformat": 4,
 "nbformat_minor": 5
}
