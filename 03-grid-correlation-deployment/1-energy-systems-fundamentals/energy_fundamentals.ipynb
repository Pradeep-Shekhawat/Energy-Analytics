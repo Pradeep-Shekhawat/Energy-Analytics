{
 "cells": [
  {
   "cell_type": "markdown",
   "id": "bb48ee69",
   "metadata": {},
   "source": [
    "# Day 15: Energy Systems Fundamentals Notes\n",
    "\n",
    "---"
   ]
  },
  {
   "cell_type": "markdown",
   "id": "dd9014fa",
   "metadata": {},
   "source": [
    "## 1. Generation Concepts\n",
    "\n",
    "**Thermal Power Plants**  \n",
    "- **Fuel types:** Coal, natural gas, oil  \n",
    "- **Operation:** Burn fuel to produce steam → drives turbines → generator produces electricity  \n",
    "- **Capacity vs. energy:**  \n",
    "  - **Capacity (MW):** maximum instantaneous output  \n",
    "  - **Energy (MWh):** total output over time  \n",
    "- **Capacity factor:** actual energy produced ÷ (capacity × time)  \n",
    "  - Coal plants: high capacity factor (base‑load)  \n",
    "  - Gas turbines: lower capacity factor (peaking)  \n",
    "\n",
    "**Hydroelectric Plants**  \n",
    "- **Operation:** Water flow spins turbines directly  \n",
    "- **Advantages:** Very responsive to load changes, high efficiency  \n",
    "- **Types:**  \n",
    "  - **Reservoir (impoundment):** large dam stores water  \n",
    "  - **Run‐of‐river:** limited storage, dependent on flow  \n",
    "\n",
    "**Solar PV**  \n",
    "- **Operation:** Photovoltaic cells convert sunlight directly to DC electricity → inverter to AC  \n",
    "- **Characteristics:** Intermittent (daylight only), output varies with irradiance and temperature  \n",
    "- **Metrics:**  \n",
    "  - **Rated capacity (kW):** under standard test conditions  \n",
    "  - **Capacity factor:** often 15–25%  \n",
    "\n",
    "**Wind Turbines**  \n",
    "- **Operation:** Wind turns blades → gearbox → generator  \n",
    "- **Characteristics:** Intermittent, geographically dependent on wind speed distribution  \n",
    "- **Metrics:**  \n",
    "  - Power curve: output vs. wind speed  \n",
    "  - Cut‑in and cut‑out speeds limit operation  \n",
    "\n",
    "---"
   ]
  },
  {
   "cell_type": "markdown",
   "id": "ec953dc2",
   "metadata": {},
   "source": [
    "## 2. Transmission & Substations\n",
    "\n",
    "**High‑Voltage Transmission**  \n",
    "- **Purpose:** Move bulk power long distances with minimal losses  \n",
    "- **Typical voltages:** 110 kV, 220 kV, 400 kV, 765 kV  \n",
    "- **Losses:** I²R heating losses proportional to square of current → minimize current by using high voltage  \n",
    "\n",
    "**Transformers**  \n",
    "- **Step‑up at generation:** Increase voltage (and reduce current) for transmission  \n",
    "- **Step‑down at load centers:** Reduce voltage for distribution  \n",
    "- **Efficiency:** > 98% per transformer (but cumulative losses matter)  \n",
    "\n",
    "**Substation Functions**  \n",
    "- **Switching:** Connect/disconnect lines for maintenance or fault isolation  \n",
    "- **Voltage regulation:** Maintain voltage within required limits via tap changers  \n",
    "- **Protection:** Relays and circuit breakers detect faults and isolate sections  \n",
    "\n",
    "**Grid Topologies**  \n",
    "- **Radial:** Simple “tree” structure; faults affect downstream loads  \n",
    "- **Meshed (looped):** Multiple paths for redundancy; more complex protection  \n",
    "\n",
    "---"
   ]
  },
  {
   "cell_type": "markdown",
   "id": "73f8120f",
   "metadata": {},
   "source": [
    "## 3. Distribution & Load Profiles\n",
    "\n",
    "**Distribution Network**  \n",
    "- **Voltages:** 11 kV / 33 kV primary feeders → 400/230 V secondary networks  \n",
    "- **Components:**  \n",
    "  - **Primary feeders:** carry power from substations to local areas  \n",
    "  - **Distribution transformers:** step down to consumer voltage  \n",
    "  - **Service lines:** final connection to homes/businesses  \n",
    "\n",
    "**Load Profiles**  \n",
    "- **Residential:** peak in morning (6–9 AM) and evening (6–10 PM); lower midday  \n",
    "- **Commercial:** peak during business hours (9 AM–5 PM) on weekdays  \n",
    "- **Industrial:** may run 24 hrs with relatively flat or machine‑cycle peaks  \n",
    "\n",
    "**Seasonal & Weather Effects**  \n",
    "- **Summer peaks:** increased cooling load → afternoon peaks  \n",
    "- **Winter peaks:** heating, lighting → early morning and evening peaks  \n",
    "- **Renewables impact:** high solar output midday can reduce net load (“duck curve”)  \n",
    "\n",
    "---"
   ]
  },
  {
   "cell_type": "markdown",
   "id": "14c24985",
   "metadata": {},
   "source": [
    "## 4. Key Takeaways\n",
    "\n",
    "- **Generation diversity** (thermal, hydro, solar, wind) balances reliability and cost  \n",
    "- **High‑voltage transmission** minimizes losses; substations manage voltage and protection  \n",
    "- **Distribution systems** deliver to end‑users at low voltage; network design affects data granularity  \n",
    "- **Load profiles** vary by sector and season—critical for demand forecasting and resource planning "
   ]
  }
 ],
 "metadata": {
  "language_info": {
   "name": "python"
  }
 },
 "nbformat": 4,
 "nbformat_minor": 5
}
