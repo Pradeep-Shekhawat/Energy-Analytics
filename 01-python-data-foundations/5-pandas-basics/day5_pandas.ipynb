{
 "cells": [
  {
   "cell_type": "markdown",
   "id": "01caf96f",
   "metadata": {},
   "source": [
    "# Day 5: Pandas Basics\n",
    "\n",
    "1. Overview  \n",
    "2. Importing & Creating DataFrames  \n",
    "3. Indexing, Selecting & Filtering  \n",
    "4. GroupBy & Aggregations  \n",
    "5. Exercise 1: Load & Inspect Solar Data  \n",
    "6. Exercise 2: Filter High-Demand Days  \n",
    "7. Exercise 3: Regional Generation GroupBy  \n",
    "8. Exercise 4: Time-Series Resampling  \n",
    "\n",
    "---"
   ]
  },
  {
   "cell_type": "markdown",
   "id": "f25300b6",
   "metadata": {},
   "source": [
    "## 1. Overview\n",
    "\n",
    "Welcome to Day 5 of my Energy Analytics journey! Today’s goals are to:\n",
    "\n",
    "- Load and inspect tabular energy data with Pandas  \n",
    "- Select, filter, and slice DataFrames  \n",
    "- Group and aggregate by categorical fields  \n",
    "- Resample time-series data at different intervals  \n",
    "- Complete four field-related coding exercises in my Jupyter notebook  \n",
    "\n",
    "---"
   ]
  },
  {
   "cell_type": "markdown",
   "id": "285b5222",
   "metadata": {},
   "source": [
    "## 2. Importing & Creating DataFrames\n",
    "\n",
    "In this section, I will:\n",
    "\n",
    "- Import Pandas with the standard alias  \n",
    "- Create a DataFrame from a Python dict  \n",
    "- Inspect my DataFrame using `.head()`, `.info()`, and `.describe()`"
   ]
  },
  {
   "cell_type": "code",
   "execution_count": 1,
   "id": "4088b976",
   "metadata": {},
   "outputs": [
    {
     "name": "stdout",
     "output_type": "stream",
     "text": [
      "   day  irradiance_khm  demand_gw\n",
      "0    1             5.2       45.3\n",
      "1    2             4.6       54.1\n",
      "2    3             4.9       41.4\n",
      "3    4             5.4       38.5\n",
      "4    5             5.1       44.3\n"
     ]
    }
   ],
   "source": [
    "import pandas as pd\n",
    "\n",
    "# Create from dict\n",
    "data = {\n",
    "    \"day\" : [1, 2, 3, 4, 5],\n",
    "    \"irradiance_khm\" : [5.2, 4.6, 4.9, 5.4, 5.1],\n",
    "    \"demand_gw\" : [45.3, 54.1, 41.4, 38.5, 44.3]\n",
    "}\n",
    "\n",
    "df = pd.DataFrame(data)\n",
    "print(df.head())"
   ]
  },
  {
   "cell_type": "markdown",
   "id": "f6fa8f41",
   "metadata": {},
   "source": [
    "---\n",
    "\n",
    "## 3. Indexing, Selecting & Filtering\n",
    "\n",
    "In this section, I will:\n",
    "\n",
    "- Select columns (`df[\"column\"]`)  \n",
    "- Select rows by position (`.iloc`) and by label (`.loc`)  \n",
    "- Apply boolean masks for filtering"
   ]
  },
  {
   "cell_type": "code",
   "execution_count": 2,
   "id": "d33daa85",
   "metadata": {},
   "outputs": [
    {
     "name": "stdout",
     "output_type": "stream",
     "text": [
      "day                1.0\n",
      "irradiance_khm     5.2\n",
      "demand_gw         45.3\n",
      "Name: 0, dtype: float64    day  irradiance_khm  demand_gw\n",
      "2    3             4.9       41.4\n",
      "   day  irradiance_khm  demand_gw\n",
      "1    2             4.6       54.1\n"
     ]
    }
   ],
   "source": [
    "# Columm selection\n",
    "irr = df[\"irradiance_khm\"]\n",
    "\n",
    "# Row selection by position & lable\n",
    "print(df.iloc[0], df.loc[ df[\"day\"] == 3 ])\n",
    "\n",
    "# Boolean filtering \n",
    "high_demand = df[ df[\"demand_gw\"] >= 50 ]\n",
    "print(high_demand)"
   ]
  },
  {
   "cell_type": "markdown",
   "id": "823abdeb",
   "metadata": {},
   "source": [
    "---\n",
    "\n",
    "## 4. GroupBy & Aggregations\n",
    "\n",
    "In this section, I will:\n",
    "\n",
    "- Add a categorical column (`region`)  \n",
    "- Use `.groupby()` and `.agg()` to compute summaries  \n",
    "- Apply built-in functions like `sum`, `mean`, and `max`"
   ]
  },
  {
   "cell_type": "code",
   "execution_count": 3,
   "id": "00776cc8",
   "metadata": {},
   "outputs": [
    {
     "name": "stdout",
     "output_type": "stream",
     "text": [
      "         sum   mean   max\n",
      "region                   \n",
      "East    38.5  38.50  38.5\n",
      "North   86.7  43.35  45.3\n",
      "South   98.4  49.20  54.1\n"
     ]
    }
   ],
   "source": [
    "# Simulate region tag\n",
    "df[\"region\"] = [\"North\", \"South\", \"North\", \"East\", \"South\"]\n",
    "grp = df.groupby(\"region\")[\"demand_gw\"].agg([\"sum\", \"mean\", \"max\"])\n",
    "print(grp)"
   ]
  },
  {
   "cell_type": "markdown",
   "id": "38624861",
   "metadata": {},
   "source": [
    "---\n",
    "\n",
    "### Exercise 1: Load & Inspect Solar Data\n",
    "\n",
    "In this cell, I:\n",
    "\n",
    "- Read the `irr.csv` file from Day 3 using `pd.read_csv()`  \n",
    "- Display `.info()`, `.describe()`, and the first 5 rows with `.head()`\n",
    "\n",
    "- **Why?**  \n",
    "  To verify data types, check for missing values, and understand basic statistics before analysis."
   ]
  },
  {
   "cell_type": "code",
   "execution_count": 8,
   "id": "82f28e6f",
   "metadata": {},
   "outputs": [
    {
     "name": "stdout",
     "output_type": "stream",
     "text": [
      "<class 'pandas.core.frame.DataFrame'>\n",
      "RangeIndex: 2 entries, 0 to 1\n",
      "Data columns (total 2 columns):\n",
      " #   Column         Non-Null Count  Dtype\n",
      "---  ------         --------------  -----\n",
      " 0   day            2 non-null      int64\n",
      " 1   irradiance_wh  2 non-null      int64\n",
      "dtypes: int64(2)\n",
      "memory usage: 164.0 bytes\n",
      "None             day  irradiance_wh\n",
      "count  2.000000       2.000000\n",
      "mean   1.500000    5000.000000\n",
      "std    0.707107     282.842712\n",
      "min    1.000000    4800.000000\n",
      "25%    1.250000    4900.000000\n",
      "50%    1.500000    5000.000000\n",
      "75%    1.750000    5100.000000\n",
      "max    2.000000    5200.000000    day  irradiance_wh\n",
      "0    1           5200\n",
      "1    2           4800\n"
     ]
    }
   ],
   "source": [
    "df = pd.DataFrame(pd.read_csv(\"../day3/irr.csv\"))\n",
    "print(irr.info(), irr.describe(), irr.head())"
   ]
  },
  {
   "cell_type": "markdown",
   "id": "ebc20073",
   "metadata": {},
   "source": [
    "---\n",
    "\n",
    "### Exercise 2: Filter High-Demand Days\n",
    "\n",
    "In this cell, I:\n",
    "\n",
    "- Filter the DataFrame to include only rows where `demand_gw` ≥ 50  \n",
    "- Reset the index with `.reset_index(drop=True)` and display the result\n",
    "\n",
    "- **Why?**  \n",
    "  To identify days with peak grid demand for targeted operational planning."
   ]
  },
  {
   "cell_type": "code",
   "execution_count": 9,
   "id": "68e1952b",
   "metadata": {},
   "outputs": [
    {
     "name": "stdout",
     "output_type": "stream",
     "text": [
      "   day  irradiance_wh  irradiance_kwh  demand_gw\n",
      "0    2           4800             4.8       53.4\n"
     ]
    }
   ],
   "source": [
    "# Covert Wh to kwh\n",
    "df[\"irradiance_kwh\"] = df[\"irradiance_wh\"] / 1000\n",
    "\n",
    "# Add sample demant data\n",
    "df[\"demand_gw\"] = [45.6, 53.4]\n",
    "\n",
    "# Displaying high demand and reseting index\n",
    "high_demand = df[df[\"demand_gw\"] >= 50].reset_index(drop=True)\n",
    "print(high_demand)"
   ]
  },
  {
   "cell_type": "markdown",
   "id": "f63bc299",
   "metadata": {},
   "source": [
    "---\n",
    "\n",
    "### Exercise 3: Regional Generation GroupBy\n",
    "\n",
    "In this cell, I:\n",
    "\n",
    "- Add a `region` column to the loaded DataFrame (assigning at least two distinct regions)  \n",
    "- Group by `region` and compute total and average values for `irradiance_kwh` and `demand_gw`  \n",
    "- Display the aggregated DataFrame\n",
    "\n",
    "- **Why?**  \n",
    "  To compare solar performance and demand across different regions of the grid."
   ]
  },
  {
   "cell_type": "code",
   "execution_count": 10,
   "id": "3f0559de",
   "metadata": {},
   "outputs": [
    {
     "name": "stdout",
     "output_type": "stream",
     "text": [
      "       irradiance_kwh      demand_gw      \n",
      "                  sum mean       sum  mean\n",
      "region                                    \n",
      "North             5.2  5.2      45.6  45.6\n",
      "South             4.8  4.8      53.4  53.4\n"
     ]
    }
   ],
   "source": [
    "# Assign regions\n",
    "df[\"region\"] = [\"North\", \"South\"]\n",
    "\n",
    "# Group by region and aggregate\n",
    "agg_df = df.groupby(\"region\").agg({\n",
    "    \"irradiance_kwh\": [\"sum\", \"mean\"],\n",
    "    \"demand_gw\":       [\"sum\", \"mean\"]\n",
    "})\n",
    "\n",
    "# Display result\n",
    "print(agg_df)"
   ]
  },
  {
   "cell_type": "markdown",
   "id": "3f8d1bf7",
   "metadata": {},
   "source": [
    "---\n",
    "\n",
    "### Exercise 4: Time-Series Resampling\n",
    "\n",
    "In this cell, I:\n",
    "\n",
    "- Convert `day` into a datetime index for May 1–5, 2025 using `pd.date_range()`  \n",
    "- Set the new `date` column as index  \n",
    "- Resample the DataFrame at a 2-day frequency (`'2D'`) and compute mean `irradiance_kwh`  \n",
    "- Display the resampled series\n",
    "\n",
    "- **Why?**  \n",
    "  To practice aggregating irregular or daily data into custom time intervals for trend analysis."
   ]
  },
  {
   "cell_type": "code",
   "execution_count": 11,
   "id": "e4f4f2ac",
   "metadata": {},
   "outputs": [
    {
     "name": "stdout",
     "output_type": "stream",
     "text": [
      "date\n",
      "2025-05-01    5.0\n",
      "Freq: 2D, Name: irradiance_kwh, dtype: float64\n"
     ]
    }
   ],
   "source": [
    "df[\"date\"] = pd.date_range(\"2025-05-01\", periods=2, freq=\"D\")\n",
    "df.set_index(\"date\", inplace=True)\n",
    "\n",
    "resampled = df[\"irradiance_kwh\"].resample(\"2D\").mean()\n",
    "print(resampled)"
   ]
  }
 ],
 "metadata": {
  "kernelspec": {
   "display_name": "Python 3",
   "language": "python",
   "name": "python3"
  },
  "language_info": {
   "codemirror_mode": {
    "name": "ipython",
    "version": 3
   },
   "file_extension": ".py",
   "mimetype": "text/x-python",
   "name": "python",
   "nbconvert_exporter": "python",
   "pygments_lexer": "ipython3",
   "version": "3.13.1"
  }
 },
 "nbformat": 4,
 "nbformat_minor": 5
}
