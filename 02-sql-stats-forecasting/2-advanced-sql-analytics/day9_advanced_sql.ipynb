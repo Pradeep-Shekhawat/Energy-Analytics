{
 "cells": [
  {
   "cell_type": "markdown",
   "id": "f7030017",
   "metadata": {},
   "source": [
    "# Day 9: Advanced SQL for Energy Data\n",
    "\n",
    "1. Overview  \n",
    "2. Copy & Open Database  \n",
    "3. Common Table Expressions (CTEs)  \n",
    "4. Window Functions  \n",
    "5. Date Handling  \n",
    "\n",
    "---"
   ]
  },
  {
   "cell_type": "markdown",
   "id": "fca63926",
   "metadata": {},
   "source": [
    "## 1. Overview\n",
    "\n",
    "Today you’ll learn to:\n",
    "\n",
    "- Break queries into logical building blocks with CTEs\n",
    "\n",
    "- Use window functions (ROW_NUMBER(), RANK(), cumulative sums)\n",
    "\n",
    "- Turn year+month columns into proper date values in SQL\n",
    "\n",
    "- Apply these to your generation table from CEA data\n",
    "\n",
    "---"
   ]
  },
  {
   "cell_type": "markdown",
   "id": "a57323f3",
   "metadata": {},
   "source": [
    "## 2. Copy & Open Database\n",
    "\n",
    "```bash\n",
    "    cp ../day8/cea_gen.db .\n",
    "    sqlite3 cea_gen.db.\n",
    "```\n",
    "---"
   ]
  },
  {
   "cell_type": "markdown",
   "id": "b7caa96d",
   "metadata": {},
   "source": [
    "## 3. Common Table Expressions (CTEs)\n",
    "\n",
    "```bash\n",
    "-- Define a CTE for monthly totals\n",
    "WITH monthly_totals AS (\n",
    "  SELECT region,\n",
    "         month,\n",
    "         SUM(generation) AS total_mu\n",
    "  FROM generation\n",
    "  GROUP BY region, month\n",
    ")\n",
    "-- Query the CTE\n",
    "SELECT *\n",
    "FROM monthly_totals\n",
    "WHERE total_mu > 800;\n",
    "```\n",
    "\n",
    "---"
   ]
  },
  {
   "cell_type": "markdown",
   "id": "8da4cd03",
   "metadata": {},
   "source": [
    "## 4. Window Functions\n",
    "\n",
    "a) Ranking within partitions\n",
    "```bash\n",
    "SELECT\n",
    "  region,\n",
    "  month,\n",
    "  fuel_type,\n",
    "  generation,\n",
    "  ROW_NUMBER() OVER (\n",
    "    PARTITION BY region, month\n",
    "    ORDER BY generation DESC\n",
    "  ) AS rank_within_month\n",
    "FROM generation;\n",
    "```\n",
    "b) Cumulative sums\n",
    "```bash\n",
    "SELECT\n",
    "  region,\n",
    "  month,\n",
    "  SUM(generation) OVER (\n",
    "    PARTITION BY region\n",
    "    ORDER BY month\n",
    "    ROWS BETWEEN UNBOUNDED PRECEDING AND CURRENT ROW\n",
    "  ) AS cumulative_mu\n",
    "FROM generation;\n",
    "```\n",
    "\n",
    "---"
   ]
  },
  {
   "cell_type": "markdown",
   "id": "ad760320",
   "metadata": {},
   "source": [
    "## 5. Date Handling\n",
    "\n",
    "- Combine year and month into a real SQL date:\n",
    "```bash\n",
    "SELECT\n",
    "  region,\n",
    "  fuel_type,\n",
    "  DATE(year || '-' || printf('%02d', month) || '-01') AS period_start,\n",
    "  SUM(generation) AS total_mu\n",
    "FROM generation\n",
    "GROUP BY region, fuel_type, period_start\n",
    "ORDER BY period_start;\n",
    "```"
   ]
  }
 ],
 "metadata": {
  "language_info": {
   "name": "python"
  }
 },
 "nbformat": 4,
 "nbformat_minor": 5
}
