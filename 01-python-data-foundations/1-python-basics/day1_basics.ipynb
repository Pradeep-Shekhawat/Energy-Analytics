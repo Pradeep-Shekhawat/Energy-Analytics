{
 "cells": [
  {
   "cell_type": "markdown",
   "id": "67537963",
   "metadata": {},
   "source": [
    "# Day 1: Python Basics & Energy‑Related Exercises\n",
    "1. Overview\n",
    "2. Data Types & Variables\n",
    "3. Exercise 1: Solar Unit Conversion\n",
    "4. Exercise 2: Temperature Threshold Flags\n",
    "5. Exercise 3: Energy Mix Aggregation\n",
    "6. Exercise 4: Tuple Unpacking for Reporting\\\n",
    "\n",
    "---"
   ]
  },
  {
   "cell_type": "markdown",
   "id": "4cb988a0",
   "metadata": {},
   "source": [
    "## 1. Overview\n",
    "\n",
    "Welcome to Day 1 of my Energy Analytics journey! Today’s goals are to:\n",
    "\n",
    "- Get comfortable with Python’s core data types and variable assignments  \n",
    "- Practice simple operations that mirror real‑world energy tasks  \n",
    "- Complete four field‑related coding exercises in a Jupyter notebook  \n",
    "\n",
    "By the end of this notebook, I will have a working foundation in Python and a mini‑project that converts and analyzes basic solar and temperature data.\n",
    "\n",
    "---"
   ]
  },
  {
   "cell_type": "markdown",
   "id": "42be0ef0",
   "metadata": {},
   "source": [
    "## 2. Data Types & Variables\n",
    "\n",
    "In this section, I will explore Python’s built‑in data types:\n",
    "\n",
    "- **Primitive types**: `int`, `float`, `str`  \n",
    "- **Compound types**: `list`, `dict`, `tuple`  \n",
    "\n",
    "I’ll learn how to assign values to variables and perform basic operations that are fundamental to any data‑processing workflow."
   ]
  },
  {
   "cell_type": "code",
   "execution_count": 1,
   "id": "7468a5ac",
   "metadata": {},
   "outputs": [
    {
     "name": "stdout",
     "output_type": "stream",
     "text": [
      "45.14 <class 'float'>\n",
      "System: Delhi Solar SYSTEM: DELHI SOLAR\n",
      "35.2 41.0\n",
      "{'solar': 120, 'wind': 200, 'hydro': 300}\n",
      "Day 1: 5.5\n"
     ]
    }
   ],
   "source": [
    "# Intgers and Float\n",
    "a = 42\n",
    "b = 3.14\n",
    "print(a + b, type(a + b))\n",
    "\n",
    "# Strings\n",
    "name = \"Delhi Solar\"\n",
    "msg = f\"System: {name}\"\n",
    "print(msg, msg.upper())\n",
    "\n",
    "#Lists and Indexing\n",
    "temps = [35.2, 37.5, 41.0]\n",
    "print(temps[0], temps[-1])\n",
    "\n",
    "# Dictionaries\n",
    "mix = {\"solar\": 120, \"wind\": 200}\n",
    "mix[\"hydro\"] = 300\n",
    "print(mix)\n",
    "\n",
    "# Tuples\n",
    "reading = (1, 5.5)    # day, kwh/m²\n",
    "day, irr = reading\n",
    "print(f\"Day {day}: {irr}\")"
   ]
  },
  {
   "cell_type": "markdown",
   "id": "f1a515de",
   "metadata": {},
   "source": [
    "---\n",
    "\n",
    "### Exercise 1: Solar Unit Conversion\n",
    "\n",
    "In this cell, I convert a list of daily solar irradiance measurements from watt‑hours per square meter (Wh/m²) to kilowatt‑hours per square meter (kWh/m²).\n",
    "\n",
    "- **Why?**  \n",
    "  Converting to kWh/m² standardizes the data for easier comparison with grid‑scale energy outputs and modeling inputs.  \n",
    "- **How?**  \n",
    "  I divide each Wh/m² value by 1,000 to get the equivalent kWh/m²."
   ]
  },
  {
   "cell_type": "code",
   "execution_count": 5,
   "id": "8a277e11",
   "metadata": {},
   "outputs": [
    {
     "name": "stdout",
     "output_type": "stream",
     "text": [
      "[5.2, 4.9, 4.5, 5.0]\n"
     ]
    }
   ],
   "source": [
    "wh_value = [5200, 4900, 4500, 5000]\n",
    "kwh_value = [v/1000 for v in wh_value]\n",
    "print(kwh_value)"
   ]
  },
  {
   "cell_type": "markdown",
   "id": "77df2b1b",
   "metadata": {},
   "source": [
    "---\n",
    "\n",
    "### Exercise 2: Temperature Threshold Flags\n",
    "\n",
    "In this cell, I identify days when the maximum temperature exceeds 40 °C, which can impact cooling demand and peak loads.\n",
    "\n",
    "- **Why?**  \n",
    "  Extreme temperatures drive energy demand spikes in cooling/heating.  \n",
    "- **How?**  \n",
    "  I create a list of boolean flags (`True` if temperature > 40 °C, else `False`)."
   ]
  },
  {
   "cell_type": "code",
   "execution_count": 11,
   "id": "b17039d5",
   "metadata": {},
   "outputs": [
    {
     "name": "stdout",
     "output_type": "stream",
     "text": [
      "[False, False, True, False]\n"
     ]
    }
   ],
   "source": [
    "temp = [24.6, 28.5, 42.4, 36.2]\n",
    "over_40 = [t >= 40 for t in temp]\n",
    "print(over_40)"
   ]
  },
  {
   "cell_type": "markdown",
   "id": "038ef86f",
   "metadata": {},
   "source": [
    "---\n",
    "\n",
    "### Exercise 3: Energy Mix Aggregation\n",
    "\n",
    "Here, I aggregate monthly generation figures for solar, wind, and hydro to compute both per‑source totals and the overall total.\n",
    "\n",
    "- **Why?**  \n",
    "  Understanding the contribution of each source helps in assessing grid reliability and planning.  \n",
    "- **How?**  \n",
    "  I sum each list of monthly values and then sum those results for an overall figure."
   ]
  },
  {
   "cell_type": "code",
   "execution_count": 9,
   "id": "14d4b668",
   "metadata": {},
   "outputs": [
    {
     "name": "stdout",
     "output_type": "stream",
     "text": [
      "Per Source: {'solar': 513, 'wind': 795, 'hydro': 1245}\n",
      "Overall Total: 2553\n"
     ]
    }
   ],
   "source": [
    "energy = {\n",
    "    \"solar\": [120, 130, 135, 128],\n",
    "    \"wind\": [200, 190, 195, 210],\n",
    "    \"hydro\": [300, 320, 310, 315]\n",
    "}\n",
    "total = {src: sum(vals) for src, vals in energy.items()}\n",
    "overall = sum(total.values())\n",
    "print(\"Per Source:\",total)\n",
    "print(\"Overall Total:\",overall)"
   ]
  },
  {
   "cell_type": "markdown",
   "id": "1bd22153",
   "metadata": {},
   "source": [
    "---\n",
    "\n",
    "### Exercise 4: Tuple Unpacking for Reporting\n",
    "\n",
    "This cell unpacks a list of `(day, irradiance)` tuples and formats a human‑readable report.\n",
    "\n",
    "- **Why?**  \n",
    "  Clean reports are essential for quick stakeholder communication.  \n",
    "- **How?**  \n",
    "  I iterate through each tuple, unpack into `day` and `irradiance`, and print a formatted string."
   ]
  },
  {
   "cell_type": "code",
   "execution_count": 10,
   "id": "e84817a7",
   "metadata": {},
   "outputs": [
    {
     "name": "stdout",
     "output_type": "stream",
     "text": [
      "Day 1: 4.2 kwh/m²\n",
      "Day 2: 5.4 kwh/m²\n",
      "Day 3: 3.8 kwh/m²\n",
      "Day 4: 4.0 kwh/m²\n"
     ]
    }
   ],
   "source": [
    "readings = [(1, 4.2), (2, 5.4), (3, 3.8), (4, 4.0)]\n",
    "for day, irr in readings :\n",
    "    print(f\"Day {day}: {irr} kwh/m²\")"
   ]
  }
 ],
 "metadata": {
  "kernelspec": {
   "display_name": "Python 3",
   "language": "python",
   "name": "python3"
  },
  "language_info": {
   "codemirror_mode": {
    "name": "ipython",
    "version": 3
   },
   "file_extension": ".py",
   "mimetype": "text/x-python",
   "name": "python",
   "nbconvert_exporter": "python",
   "pygments_lexer": "ipython3",
   "version": "3.13.1"
  }
 },
 "nbformat": 4,
 "nbformat_minor": 5
}
