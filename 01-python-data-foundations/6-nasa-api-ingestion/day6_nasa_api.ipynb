{
 "cells": [
  {
   "cell_type": "markdown",
   "id": "3e6225ea",
   "metadata": {},
   "source": [
    "# Day 6: NASA POWER API Mini-Project, Part 1\n",
    "\n",
    "1. Overview  \n",
    "2. API Introduction & Endpoint  \n",
    "3. Fetching JSON Data with `requests`  \n",
    "4. Parsing & Normalizing to DataFrame  \n",
    "5. Save Solar DataFrame  \n",
    "\n",
    "---"
   ]
  },
  {
   "cell_type": "markdown",
   "id": "293083cb",
   "metadata": {},
   "source": [
    "## 1. Overview\n",
    "\n",
    "Welcome to Day 6 of my Energy Analytics journey! Today’s goals are to:\n",
    "\n",
    "- Explore NASA’s POWER API for renewable‐energy data  \n",
    "- Fetch daily solar‐irradiance JSON for a given location and date range  \n",
    "- Parse and normalize the JSON into a Pandas DataFrame  \n",
    "- Save the clean data locally as `solar_irr.csv`  \n",
    "\n",
    "---"
   ]
  },
  {
   "cell_type": "markdown",
   "id": "b06a538e",
   "metadata": {},
   "source": [
    "## 2. API Introduction & Endpoint\n",
    "\n",
    "In this section, I will:\n",
    "\n",
    "- Review the NASA POWER Daily Single-Point API documentation  \n",
    "- Identify key parameters:\n",
    "  - `community`: `\"RE\"` (Renewable Energy)  \n",
    "  - `parameters`: `\"ALLSKY_SFC_SW_DWN\"`  \n",
    "  - `start`/`end` dates in `YYYYMMDD` format  \n",
    "  - `latitude` & `longitude` coordinates  \n",
    "  - `format`: `\"JSON\"`  \n",
    "\n",
    "---"
   ]
  },
  {
   "cell_type": "markdown",
   "id": "aacbee8c",
   "metadata": {},
   "source": [
    "## 3. Fetching JSON Data with `requests`\n",
    "\n",
    "In this section, I will:\n",
    "\n",
    "- Import the `requests` and `pandas` libraries  \n",
    "- Construct the API URL and parameter dict  \n",
    "- Send a GET request and inspect the top‐level JSON keys"
   ]
  },
  {
   "cell_type": "code",
   "execution_count": 1,
   "id": "c415309f",
   "metadata": {},
   "outputs": [
    {
     "name": "stdout",
     "output_type": "stream",
     "text": [
      "dict_keys(['type', 'geometry', 'properties', 'header', 'messages', 'parameters', 'times'])\n"
     ]
    }
   ],
   "source": [
    "# Install and import\n",
    "import requests\n",
    "import pandas as pd\n",
    "\n",
    "# Build URL\n",
    "base = \"https://power.larc.nasa.gov/api/temporal/daily/point\"\n",
    "params = {\n",
    "    \"community\" : \"RE\",\n",
    "    \"parameters\" : \"ALLSKY_SFC_SW_DWN\",\n",
    "    \"start\" : \"20250101\",\n",
    "    \"end\" : \"20250430\",\n",
    "    \"latitude\" : \"28.61\",\n",
    "    \"longitude\" : \"77.20\",\n",
    "    \"format\" : \"JSON\"\n",
    "}\n",
    "\n",
    "# Request and inspect\n",
    "resp = requests.get(base, params=params)\n",
    "data = resp.json()\n",
    "# Peek at top-level keys\n",
    "print(data.keys())"
   ]
  },
  {
   "cell_type": "markdown",
   "id": "ddb7cf9c",
   "metadata": {},
   "source": [
    "---\n",
    "\n",
    "## 4. Parsing & Normalizing to DataFrame\n",
    "\n",
    "In this section, I will:\n",
    "\n",
    "- Drill down to `data[\"properties\"][\"parameter\"][\"ALLSKY_SFC_SW_DWN\"]`\n",
    "\n",
    "- Transform the date-keyed dict into a list of records\n",
    "\n",
    "- Create a DataFrame with columns:\n",
    "\n",
    "   - `date` (as `datetime`)\n",
    "\n",
    "   - `irradiance_kwh`\n",
    "\n",
    "- Sort by `date` and reset the index"
   ]
  },
  {
   "cell_type": "code",
   "execution_count": 2,
   "id": "818b6ab1",
   "metadata": {},
   "outputs": [
    {
     "name": "stdout",
     "output_type": "stream",
     "text": [
      "        date  irradiance_kwh\n",
      "0 2025-01-01            1.70\n",
      "1 2025-01-02            2.09\n",
      "2 2025-01-03            1.31\n",
      "3 2025-01-04            2.12\n",
      "4 2025-01-05            3.31\n",
      "\n",
      "          date  irradiance_kwh\n",
      "115 2025-04-26            6.79\n",
      "116 2025-04-27            7.11\n",
      "117 2025-04-28            7.07\n",
      "118 2025-04-29            7.08\n",
      "119 2025-04-30            6.93\n"
     ]
    }
   ],
   "source": [
    "# Drill down\n",
    "solar_ts = data[\"properties\"][\"parameter\"][\"ALLSKY_SFC_SW_DWN\"]  #solar_ts is a dict: {\"20250101: value, .....\"}\n",
    "\n",
    "# Normalize to DataFrame\n",
    "df = pd.DataFrame([\n",
    "    {\"date\" : pd.to_datetime(d, format=\"%Y%m%d\"), \"irradiance_kwh\": v}\n",
    "    for d, v in solar_ts.items()\n",
    "])\n",
    "df.sort_values(\"date\", inplace=True)\n",
    "df.reset_index(drop=True, inplace=True)\n",
    "\n",
    "print(df.head(), df.tail(), sep=\"\\n\\n\")"
   ]
  },
  {
   "cell_type": "markdown",
   "id": "f073c85d",
   "metadata": {},
   "source": [
    "---\n",
    "\n",
    "## 5. Save NASA Solar Data\n",
    "\n",
    "In this cell, I:  \n",
    "- Save to `solar_irr.csv` via `df.to_csv(\"solar_irr.csv\", index=False)`.\n",
    "\n",
    "- **Why?**  \n",
    "  I need a local, tabular copy of real solar-irradiance data for further analysis."
   ]
  },
  {
   "cell_type": "code",
   "execution_count": 3,
   "id": "21957ba6",
   "metadata": {},
   "outputs": [
    {
     "data": {
      "text/html": [
       "<div>\n",
       "<style scoped>\n",
       "    .dataframe tbody tr th:only-of-type {\n",
       "        vertical-align: middle;\n",
       "    }\n",
       "\n",
       "    .dataframe tbody tr th {\n",
       "        vertical-align: top;\n",
       "    }\n",
       "\n",
       "    .dataframe thead th {\n",
       "        text-align: right;\n",
       "    }\n",
       "</style>\n",
       "<table border=\"1\" class=\"dataframe\">\n",
       "  <thead>\n",
       "    <tr style=\"text-align: right;\">\n",
       "      <th></th>\n",
       "      <th>date</th>\n",
       "      <th>irradiance_kwh</th>\n",
       "    </tr>\n",
       "  </thead>\n",
       "  <tbody>\n",
       "    <tr>\n",
       "      <th>0</th>\n",
       "      <td>2025-01-01</td>\n",
       "      <td>1.70</td>\n",
       "    </tr>\n",
       "    <tr>\n",
       "      <th>1</th>\n",
       "      <td>2025-01-02</td>\n",
       "      <td>2.09</td>\n",
       "    </tr>\n",
       "    <tr>\n",
       "      <th>2</th>\n",
       "      <td>2025-01-03</td>\n",
       "      <td>1.31</td>\n",
       "    </tr>\n",
       "    <tr>\n",
       "      <th>3</th>\n",
       "      <td>2025-01-04</td>\n",
       "      <td>2.12</td>\n",
       "    </tr>\n",
       "    <tr>\n",
       "      <th>4</th>\n",
       "      <td>2025-01-05</td>\n",
       "      <td>3.31</td>\n",
       "    </tr>\n",
       "  </tbody>\n",
       "</table>\n",
       "</div>"
      ],
      "text/plain": [
       "        date  irradiance_kwh\n",
       "0 2025-01-01            1.70\n",
       "1 2025-01-02            2.09\n",
       "2 2025-01-03            1.31\n",
       "3 2025-01-04            2.12\n",
       "4 2025-01-05            3.31"
      ]
     },
     "execution_count": 3,
     "metadata": {},
     "output_type": "execute_result"
    }
   ],
   "source": [
    "# Save CSV\n",
    "df.to_csv(\"solar_irr.csv\", index=False)\n",
    "\n",
    "# Previwe\n",
    "df.head()"
   ]
  },
  {
   "cell_type": "code",
   "execution_count": null,
   "id": "785e64a7",
   "metadata": {},
   "outputs": [],
   "source": []
  }
 ],
 "metadata": {
  "kernelspec": {
   "display_name": "Python 3",
   "language": "python",
   "name": "python3"
  },
  "language_info": {
   "codemirror_mode": {
    "name": "ipython",
    "version": 3
   },
   "file_extension": ".py",
   "mimetype": "text/x-python",
   "name": "python",
   "nbconvert_exporter": "python",
   "pygments_lexer": "ipython3",
   "version": "3.13.1"
  }
 },
 "nbformat": 4,
 "nbformat_minor": 5
}
