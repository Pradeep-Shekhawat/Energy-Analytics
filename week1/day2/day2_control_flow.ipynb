{
 "cells": [
  {
   "cell_type": "markdown",
   "id": "7a7c0857",
   "metadata": {},
   "source": [
    "# Day 2: Control Flow & Loops\n",
    "\n",
    "1. Overview\n",
    "2. Conditional Statements: if / elif / else\n",
    "3. Loop Constructs: for & while\n",
    "4. Exercise 1: Demand Threshold Classification\n",
    "5. Exercise 2: Filtering High‑Irradiance Days\n",
    "6. Exercise 3: Cumulative Energy with while\n",
    "7. Exercise 4: List & Dict Comprehensions"
   ]
  },
  {
   "cell_type": "markdown",
   "id": "48574611",
   "metadata": {},
   "source": [
    "# 1. Overview\n",
    "\n",
    "Welcome to Day 2 of my Energy Analytics journey! Today’s goals are to:\n",
    "\n",
    "- Master Python’s conditional statements (`if` / `elif` / `else`)  \n",
    "- Learn and practice loop constructs (`for` & `while`)  \n",
    "- Complete four field‑related coding exercises in my Jupyter notebook  \n",
    "- Commiting my work to GitHub"
   ]
  },
  {
   "cell_type": "markdown",
   "id": "a12b2aae",
   "metadata": {},
   "source": [
    "# 2. Conditional Statements: if / elif / else\n",
    "\n",
    "In this section, I explore how Python makes decisions:\n",
    "\n",
    "- *Syntax*:  \n",
    "  ```python\n",
    "  if <condition>:  \n",
    "      # code  \n",
    "  elif <condition>:  \n",
    "      # code  \n",
    "  else:  \n",
    "      # code"
   ]
  },
  {
   "cell_type": "markdown",
   "id": "294d7d82",
   "metadata": {},
   "source": [
    "# 3. Loop Constructs: for & while\n",
    "\n",
    "Loops process sequences of data automatically:\n",
    "\n",
    "- for loops\n",
    "   - Iterate over `list`, `tuple`, `dict`, etc.\n",
    "   - Use `break` to exit early, `continue` to skip iterations\n",
    "\n",
    "- while loops\n",
    "   - Repeat until a condition changes\n",
    "   - Ensure loop variables update to avoid infinite loops"
   ]
  },
  {
   "cell_type": "markdown",
   "id": "df205f80",
   "metadata": {},
   "source": [
    "# Exercise 1: Demand Threshold Classification\n",
    "\n",
    "In this cell, I classify a list of daily peak demand values (in GW) into three categories:  \n",
    "- “High” if demand ≥ 60 GW  \n",
    "- “Medium” if 40 GW ≤ demand < 60 GW  \n",
    "- “Low” if demand < 40 GW  \n",
    "\n",
    "- Why?  \n",
    "  Categorizing demand levels helps grid operators anticipate capacity needs and dispatch resources efficiently.  \n",
    "- How?  \n",
    "  I use an `if`/`elif`/`else` block to check each value and append the appropriate label to a new list."
   ]
  },
  {
   "cell_type": "code",
   "execution_count": 1,
   "id": "cb0d388d",
   "metadata": {},
   "outputs": [
    {
     "name": "stdout",
     "output_type": "stream",
     "text": [
      "['Low', 'Medium', 'High', 'Medium', 'Medium']\n"
     ]
    }
   ],
   "source": [
    "peak_demand = [35.2, 43.2, 61.2, 57.4, 46.7]\n",
    "classification = []\n",
    "for d in peak_demand :\n",
    "    if d >= 60 :\n",
    "        classification.append(\"High\")\n",
    "\n",
    "    elif d>= 40 :\n",
    "        classification.append(\"Medium\")\n",
    "\n",
    "    else :\n",
    "        classification.append(\"Low\")\n",
    "\n",
    "print(classification)"
   ]
  },
  {
   "cell_type": "markdown",
   "id": "548ae81f",
   "metadata": {},
   "source": [
    "# Exercise 2: Filtering High‑Irradiance Days\n",
    "\n",
    "In this cell, I extract only the days with solar irradiance ≥ 5 kWh/m² from a list of daily values.\n",
    "\n",
    "- Why?  \n",
    "  Identifying high‑irradiance days is crucial for planning optimal solar generation schedules.  \n",
    "- How?  \n",
    "  I iterate over the list with a `for` loop, use a conditional to check the threshold, and append qualifying values to a new list.  "
   ]
  },
  {
   "cell_type": "code",
   "execution_count": 2,
   "id": "54cf4d0f",
   "metadata": {},
   "outputs": [
    {
     "name": "stdout",
     "output_type": "stream",
     "text": [
      "High-irradiance days: [5.2, 5.4]\n"
     ]
    }
   ],
   "source": [
    "irradiance = [4.6, 5.2, 5.4, 4.8, 4.2]\n",
    "high_days = []\n",
    "for irr in irradiance :\n",
    "    if irr >= 5.0 :\n",
    "        high_days.append(irr)\n",
    "\n",
    "print(\"High-irradiance days:\", high_days)"
   ]
  },
  {
   "cell_type": "markdown",
   "id": "291f8b6d",
   "metadata": {},
   "source": [
    "# Exercise 3: Cumulative Energy with `while`\n",
    "\n",
    "In this cell, I sum hourly generation values (in MWh) until the cumulative total reaches or exceeds 1,000 MWh.\n",
    "\n",
    "- Why?  \n",
    "  Understanding how many hours of generation are needed to meet a target informs operational planning and storage requirements.  \n",
    "- How?  \n",
    "  I use a `while` loop that keeps adding hourly values to a running total and increments a counter until the threshold is met."
   ]
  },
  {
   "cell_type": "code",
   "execution_count": 3,
   "id": "3af1da6a",
   "metadata": {},
   "outputs": [
    {
     "name": "stdout",
     "output_type": "stream",
     "text": [
      "Reached 1130 MWh after 7 hours\n"
     ]
    }
   ],
   "source": [
    "hourly_gen = [120, 150, 200, 180, 160, 180, 140]\n",
    "i = 0\n",
    "cum = 0\n",
    "while cum < 1000 and i < len(hourly_gen) :\n",
    "    cum += hourly_gen[i]\n",
    "    i += 1\n",
    "\n",
    "print(f\"Reached {cum} MWh after {i} hours\")"
   ]
  },
  {
   "cell_type": "markdown",
   "id": "657031b9",
   "metadata": {},
   "source": [
    "# Exercise 4: List & Dict Comprehensions\n",
    "\n",
    "In this cell, I rewrite prior tasks using Python comprehensions for more concise code:\n",
    "\n",
    "- Task A (List Comprehension): I recreate the demand classification from Exercise 1 using a single-line list expression.  \n",
    "- Task B (Dict Comprehension): I build a mapping of day‑index → irradiance for days with irradiance ≥ 5 kWh/m².  \n",
    "\n",
    "- Why?  \n",
    "  Comprehensions provide a compact, readable way to transform and filter data, which I’ll use often in data‑prep workflows.  \n",
    "- How?  \n",
    "  I write a one‑line expression using conditional logic inside the comprehension to generate the desired output."
   ]
  },
  {
   "cell_type": "code",
   "execution_count": 5,
   "id": "824136d7",
   "metadata": {},
   "outputs": [
    {
     "name": "stdout",
     "output_type": "stream",
     "text": [
      "['Low', 'Medium', 'High', 'Medium', 'Medium']\n",
      "{1: 5.2, 2: 5.4}\n"
     ]
    }
   ],
   "source": [
    "peak_demand = [35.2, 43.2, 61.2, 57.4, 46.7]\n",
    "classification_comp = [\n",
    "    \"High\" if d >= 60 else \"Medium\" if d >= 40 else \"Low\"\n",
    "    for d in peak_demand\n",
    "]\n",
    "\n",
    "print(classification_comp)\n",
    "\n",
    "irradiance = [4.6, 5.2, 5.4, 4.8, 4.2]\n",
    "irr_dict = {i: irr for i, irr in enumerate(irradiance) if irr >= 5}\n",
    "\n",
    "print(irr_dict)"
   ]
  }
 ],
 "metadata": {
  "kernelspec": {
   "display_name": "Python 3",
   "language": "python",
   "name": "python3"
  },
  "language_info": {
   "codemirror_mode": {
    "name": "ipython",
    "version": 3
   },
   "file_extension": ".py",
   "mimetype": "text/x-python",
   "name": "python",
   "nbconvert_exporter": "python",
   "pygments_lexer": "ipython3",
   "version": "3.13.1"
  }
 },
 "nbformat": 4,
 "nbformat_minor": 5
}
